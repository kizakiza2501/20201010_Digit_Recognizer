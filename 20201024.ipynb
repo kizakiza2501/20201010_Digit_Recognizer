{
  "nbformat": 4,
  "nbformat_minor": 0,
  "metadata": {
    "colab": {
      "name": "20201024.ipynb",
      "provenance": [],
      "collapsed_sections": [],
      "mount_file_id": "1EGXO-bMvVOCOivgBxJJt3ukUOQRbJ6sm",
      "authorship_tag": "ABX9TyPmo79DybnuzKFQpUbQ1JEv",
      "include_colab_link": true
    },
    "kernelspec": {
      "name": "python3",
      "display_name": "Python 3"
    },
    "accelerator": "GPU"
  },
  "cells": [
    {
      "cell_type": "markdown",
      "metadata": {
        "id": "view-in-github",
        "colab_type": "text"
      },
      "source": [
        "<a href=\"https://colab.research.google.com/github/kizakiza2501/20201010_Digit_Recognizer/blob/main/20201024.ipynb\" target=\"_parent\"><img src=\"https://colab.research.google.com/assets/colab-badge.svg\" alt=\"Open In Colab\"/></a>"
      ]
    },
    {
      "cell_type": "markdown",
      "metadata": {
        "id": "rhwBD4CDrR3D"
      },
      "source": [
        "# SIGNATE 手書き数字分類\n",
        " - https://signate.jp/competitions/100/"
      ]
    },
    {
      "cell_type": "code",
      "metadata": {
        "id": "W6qsbcccDnJB"
      },
      "source": [
        "import os\n",
        "import glob\n",
        "import pandas as pd\n",
        "from pandas import DataFrame\n",
        "import numpy as np\n",
        "\n",
        "import tensorflow as tf\n",
        "from keras.preprocessing.image import load_img, img_to_array, ImageDataGenerator\n",
        "\n",
        "from sklearn.model_selection import train_test_split"
      ],
      "execution_count": 1,
      "outputs": []
    },
    {
      "cell_type": "code",
      "metadata": {
        "id": "IDNdGpb1EgNG"
      },
      "source": [
        "path = '/content/drive/My Drive/signate/20201023_degit_recognizer_100'\n",
        "list = glob.glob(path + '/data/*')"
      ],
      "execution_count": 2,
      "outputs": []
    },
    {
      "cell_type": "code",
      "metadata": {
        "id": "FjjU6I1lEvYO",
        "outputId": "c3cf6ac3-78eb-4b8e-b77b-3e4623b0adfc",
        "colab": {
          "base_uri": "https://localhost:8080/",
          "height": 102
        }
      },
      "source": [
        "list"
      ],
      "execution_count": 3,
      "outputs": [
        {
          "output_type": "execute_result",
          "data": {
            "text/plain": [
              "['/content/drive/My Drive/signate/20201023_degit_recognizer_100/data/train_master.tsv',\n",
              " '/content/drive/My Drive/signate/20201023_degit_recognizer_100/data/sample_submit.tsv',\n",
              " '/content/drive/My Drive/signate/20201023_degit_recognizer_100/data/test.zip',\n",
              " '/content/drive/My Drive/signate/20201023_degit_recognizer_100/data/train.zip',\n",
              " '/content/drive/My Drive/signate/20201023_degit_recognizer_100/data/20201024.ipynb']"
            ]
          },
          "metadata": {
            "tags": []
          },
          "execution_count": 3
        }
      ]
    },
    {
      "cell_type": "code",
      "metadata": {
        "id": "fgwXOJZDEwe4"
      },
      "source": [
        "unzip '/content/drive/My Drive/signate/20201023_degit_recognizer_100/data/test.zip'"
      ],
      "execution_count": 4,
      "outputs": []
    },
    {
      "cell_type": "code",
      "metadata": {
        "id": "V-DzB6cbE7HK"
      },
      "source": [
        "unzip '/content/drive/My Drive/signate/20201023_degit_recognizer_100/data/train.zip'"
      ],
      "execution_count": 5,
      "outputs": []
    },
    {
      "cell_type": "code",
      "metadata": {
        "id": "XhMykTPtFfjX"
      },
      "source": [
        "df_train_master = pd.read_csv(path + '/data/train_master.tsv', sep='\\t')\n",
        "df_sample_submition = pd.read_csv(path + '/data/sample_submit.tsv', sep='\\t', header=None)"
      ],
      "execution_count": 6,
      "outputs": []
    },
    {
      "cell_type": "code",
      "metadata": {
        "id": "W-wLpeRpGyxM",
        "outputId": "594acb08-a0d1-4661-9672-e640fcde0daa",
        "colab": {
          "base_uri": "https://localhost:8080/",
          "height": 204
        }
      },
      "source": [
        "df_train_master.head()"
      ],
      "execution_count": 7,
      "outputs": [
        {
          "output_type": "execute_result",
          "data": {
            "text/html": [
              "<div>\n",
              "<style scoped>\n",
              "    .dataframe tbody tr th:only-of-type {\n",
              "        vertical-align: middle;\n",
              "    }\n",
              "\n",
              "    .dataframe tbody tr th {\n",
              "        vertical-align: top;\n",
              "    }\n",
              "\n",
              "    .dataframe thead th {\n",
              "        text-align: right;\n",
              "    }\n",
              "</style>\n",
              "<table border=\"1\" class=\"dataframe\">\n",
              "  <thead>\n",
              "    <tr style=\"text-align: right;\">\n",
              "      <th></th>\n",
              "      <th>file_name</th>\n",
              "      <th>category_id</th>\n",
              "    </tr>\n",
              "  </thead>\n",
              "  <tbody>\n",
              "    <tr>\n",
              "      <th>0</th>\n",
              "      <td>train_0.jpg</td>\n",
              "      <td>5</td>\n",
              "    </tr>\n",
              "    <tr>\n",
              "      <th>1</th>\n",
              "      <td>train_1.jpg</td>\n",
              "      <td>0</td>\n",
              "    </tr>\n",
              "    <tr>\n",
              "      <th>2</th>\n",
              "      <td>train_2.jpg</td>\n",
              "      <td>4</td>\n",
              "    </tr>\n",
              "    <tr>\n",
              "      <th>3</th>\n",
              "      <td>train_3.jpg</td>\n",
              "      <td>1</td>\n",
              "    </tr>\n",
              "    <tr>\n",
              "      <th>4</th>\n",
              "      <td>train_4.jpg</td>\n",
              "      <td>9</td>\n",
              "    </tr>\n",
              "  </tbody>\n",
              "</table>\n",
              "</div>"
            ],
            "text/plain": [
              "     file_name  category_id\n",
              "0  train_0.jpg            5\n",
              "1  train_1.jpg            0\n",
              "2  train_2.jpg            4\n",
              "3  train_3.jpg            1\n",
              "4  train_4.jpg            9"
            ]
          },
          "metadata": {
            "tags": []
          },
          "execution_count": 7
        }
      ]
    },
    {
      "cell_type": "code",
      "metadata": {
        "id": "CMvs9GC3cwiL",
        "outputId": "adbaab3d-7bc7-4ab6-844a-c1e53e167062",
        "colab": {
          "base_uri": "https://localhost:8080/",
          "height": 204
        }
      },
      "source": [
        "df_sample_submition.head()"
      ],
      "execution_count": 8,
      "outputs": [
        {
          "output_type": "execute_result",
          "data": {
            "text/html": [
              "<div>\n",
              "<style scoped>\n",
              "    .dataframe tbody tr th:only-of-type {\n",
              "        vertical-align: middle;\n",
              "    }\n",
              "\n",
              "    .dataframe tbody tr th {\n",
              "        vertical-align: top;\n",
              "    }\n",
              "\n",
              "    .dataframe thead th {\n",
              "        text-align: right;\n",
              "    }\n",
              "</style>\n",
              "<table border=\"1\" class=\"dataframe\">\n",
              "  <thead>\n",
              "    <tr style=\"text-align: right;\">\n",
              "      <th></th>\n",
              "      <th>0</th>\n",
              "      <th>1</th>\n",
              "    </tr>\n",
              "  </thead>\n",
              "  <tbody>\n",
              "    <tr>\n",
              "      <th>0</th>\n",
              "      <td>test_0.jpg</td>\n",
              "      <td>2</td>\n",
              "    </tr>\n",
              "    <tr>\n",
              "      <th>1</th>\n",
              "      <td>test_1.jpg</td>\n",
              "      <td>4</td>\n",
              "    </tr>\n",
              "    <tr>\n",
              "      <th>2</th>\n",
              "      <td>test_2.jpg</td>\n",
              "      <td>5</td>\n",
              "    </tr>\n",
              "    <tr>\n",
              "      <th>3</th>\n",
              "      <td>test_3.jpg</td>\n",
              "      <td>4</td>\n",
              "    </tr>\n",
              "    <tr>\n",
              "      <th>4</th>\n",
              "      <td>test_4.jpg</td>\n",
              "      <td>3</td>\n",
              "    </tr>\n",
              "  </tbody>\n",
              "</table>\n",
              "</div>"
            ],
            "text/plain": [
              "            0  1\n",
              "0  test_0.jpg  2\n",
              "1  test_1.jpg  4\n",
              "2  test_2.jpg  5\n",
              "3  test_3.jpg  4\n",
              "4  test_4.jpg  3"
            ]
          },
          "metadata": {
            "tags": []
          },
          "execution_count": 8
        }
      ]
    },
    {
      "cell_type": "code",
      "metadata": {
        "id": "TGhDIP6UG6oS"
      },
      "source": [
        "train = []\n",
        "test = []\n",
        "\n",
        "# 学習データ\n",
        "for row in df_train_master.itertuples():\n",
        "  temp_img = load_img('train/' + row[1], color_mode = \"grayscale\")\n",
        "  train.append(img_to_array(temp_img))\n",
        "\n",
        "train = np.asarray(train)"
      ],
      "execution_count": 9,
      "outputs": []
    },
    {
      "cell_type": "code",
      "metadata": {
        "id": "kNCKy3ADFA0T",
        "outputId": "5e1846aa-a57c-478b-8427-57f21c7a7574",
        "colab": {
          "base_uri": "https://localhost:8080/",
          "height": 34
        }
      },
      "source": [
        "train[0].shape"
      ],
      "execution_count": 10,
      "outputs": [
        {
          "output_type": "execute_result",
          "data": {
            "text/plain": [
              "(28, 28, 1)"
            ]
          },
          "metadata": {
            "tags": []
          },
          "execution_count": 10
        }
      ]
    },
    {
      "cell_type": "code",
      "metadata": {
        "id": "ldzAl7BQLi0g"
      },
      "source": [
        "# One-Hot-Encodingで変換する\n",
        "y = df_train_master['category_id']\n",
        "y = tf.keras.utils.to_categorical(y, num_classes=10)"
      ],
      "execution_count": 12,
      "outputs": []
    },
    {
      "cell_type": "code",
      "metadata": {
        "id": "tZYD1pgXBPS2",
        "outputId": "3ecd3536-350a-4fa2-8a80-bd7d70054836",
        "colab": {
          "base_uri": "https://localhost:8080/",
          "height": 136
        }
      },
      "source": [
        "y"
      ],
      "execution_count": 13,
      "outputs": [
        {
          "output_type": "execute_result",
          "data": {
            "text/plain": [
              "array([[0., 0., 0., ..., 0., 0., 0.],\n",
              "       [1., 0., 0., ..., 0., 0., 0.],\n",
              "       [0., 0., 0., ..., 0., 0., 0.],\n",
              "       ...,\n",
              "       [0., 0., 0., ..., 0., 0., 0.],\n",
              "       [0., 0., 0., ..., 0., 0., 0.],\n",
              "       [0., 0., 0., ..., 0., 1., 0.]], dtype=float32)"
            ]
          },
          "metadata": {
            "tags": []
          },
          "execution_count": 13
        }
      ]
    },
    {
      "cell_type": "code",
      "metadata": {
        "id": "9n9AFR2JnzX0"
      },
      "source": [
        "# 学習データと、バリデーションデータを分割\n",
        "x_train, x_val, y_train, y_val = train_test_split(train, y, test_size=0.2)"
      ],
      "execution_count": 14,
      "outputs": []
    },
    {
      "cell_type": "code",
      "metadata": {
        "id": "BurhRRCdoNGy"
      },
      "source": [
        "# テストデータ\n",
        "for row in df_sample_submition.itertuples():\n",
        "  temp_img = load_img('test/' + row[1], color_mode = \"grayscale\")\n",
        "  test.append(img_to_array(temp_img))\n",
        "\n",
        "test = np.asarray(test)"
      ],
      "execution_count": 15,
      "outputs": []
    },
    {
      "cell_type": "code",
      "metadata": {
        "id": "CMvt8sb1PDnE"
      },
      "source": [
        "# 学習データ向けのジェネレータ\n",
        "train_data_gen = ImageDataGenerator(\n",
        "    rescale = 1.0/255.0,\n",
        "    featurewise_center=False,\n",
        "    samplewise_center=False,\n",
        "    featurewise_std_normalization=False,\n",
        "    samplewise_std_normalization=False,\n",
        "    zca_whitening=False,\n",
        "    rotation_range=20,\n",
        "    zoom_range = 0.2,\n",
        "    width_shift_range=0.1,\n",
        "    height_shift_range=0.1,\n",
        "    horizontal_flip=False,\n",
        "    vertical_flip=False\n",
        ")\n",
        "\n",
        "train_generator = train_data_gen.flow(\n",
        "    # generator向けに4次元へ変換する\n",
        "    # grascaleなので、最後はチャネル数は1\n",
        "    x_train.reshape(x_train.shape[0], 28, 28, 1),\n",
        "    y_train,\n",
        "    batch_size=32,\n",
        ")"
      ],
      "execution_count": 16,
      "outputs": []
    },
    {
      "cell_type": "code",
      "metadata": {
        "id": "OF--iwRIPnL_"
      },
      "source": [
        "# テストデータ向けのジェネレータ\n",
        "# テストデータは拡張しない（正規化のみ行う）\n",
        "test_data_gen = ImageDataGenerator(\n",
        "    rescale=1.0/255.0\n",
        ")\n",
        "\n",
        "test_generator = test_data_gen.flow(\n",
        "    # generator向けに4次元へ変換する\n",
        "    # shuffleがデフォルトTrueなので、明示的にFalseを設定する\n",
        "    # （shuffleすると、sumission.csvの順番とずれてしまう）\n",
        "    test.reshape(test.shape[0], 28, 28, 1),\n",
        "    batch_size=1,\n",
        "    shuffle=False\n",
        ")"
      ],
      "execution_count": 17,
      "outputs": []
    },
    {
      "cell_type": "code",
      "metadata": {
        "id": "iouxnvkKtiBs"
      },
      "source": [
        "class myCallback(tf.keras.callbacks.Callback):\n",
        "  def on_epoch_end(self, epoch, logs={}):\n",
        "    if logs.get('accuracy') > 0.99:\n",
        "      print('Reached 99% accracy so cancelling training.')\n",
        "      self.model.stop_traning = True\n",
        "\n",
        "callbacks = myCallback()"
      ],
      "execution_count": 18,
      "outputs": []
    },
    {
      "cell_type": "code",
      "metadata": {
        "id": "myYxeKblP6f-"
      },
      "source": [
        "'''\n",
        "model = tf.keras.models.Sequential([\n",
        "    tf.keras.layers.Conv2D(64, 7, activation='relu', padding='same', input_shape=[28, 28, 1]),\n",
        "    tf.keras.layers.MaxPooling2D(2),\n",
        "    tf.keras.layers.Conv2D(128, 3, activation='relu', padding='same'),\n",
        "    tf.keras.layers.Conv2D(128, 3, activation='relu', padding='same'),\n",
        "    tf.keras.layers.MaxPooling2D(2),\n",
        "    tf.keras.layers.Conv2D(256, 3, activation='relu', padding='same'),\n",
        "    tf.keras.layers.Conv2D(256, 3, activation='relu', padding='same'),\n",
        "    tf.keras.layers.MaxPooling2D(2),\n",
        "    tf.keras.layers.Flatten(),\n",
        "    tf.keras.layers.Dense(128, activation='relu'),\n",
        "    tf.keras.layers.Dropout(0.5),\n",
        "    tf.keras.layers.Dense(64, activation='relu'),\n",
        "    tf.keras.layers.Dropout(0.5),\n",
        "    tf.keras.layers.Dense(10, activation='softmax')\n",
        "])\n",
        "'''\n",
        "model = tf.keras.models.Sequential([\n",
        "            tf.keras.layers.Conv2D(32, (5,5), activation='relu', kernel_initializer='he_uniform',input_shape=(28, 28, 1)),\n",
        "            tf.keras.layers.MaxPooling2D(2, 2),\n",
        "            tf.keras.layers.Dropout(0.2),\n",
        "            tf.keras.layers.Conv2D(64, (5,5), activation='relu'),\n",
        "            tf.keras.layers.MaxPooling2D(2, 2),\n",
        "            tf.keras.layers.Dropout(0.25),\n",
        "            tf.keras.layers.Flatten(),\n",
        "            tf.keras.layers.Dense(128, activation='relu'),\n",
        "            tf.keras.layers.BatchNormalization(),\n",
        "            tf.keras.layers.Dense(10, activation='softmax')\n",
        "    ])\n",
        "model.compile(\n",
        "    loss = 'categorical_crossentropy',\n",
        "    optimizer = tf.keras.optimizers.SGD(lr=0.1, momentum=0.9),\n",
        "    metrics=['accuracy']\n",
        ")"
      ],
      "execution_count": 19,
      "outputs": []
    },
    {
      "cell_type": "code",
      "metadata": {
        "id": "7bZtmzYQP_Xz",
        "outputId": "2f1a78f2-f98a-4c0c-9a9d-615c71659611",
        "colab": {
          "base_uri": "https://localhost:8080/",
          "height": 598
        }
      },
      "source": [
        "tf.keras.backend.clear_session()\n",
        "\n",
        "history = model.fit_generator(\n",
        "    train_generator,\n",
        "    steps_per_epoch=x_train.shape[0] // 32, \n",
        "    epochs = 15,\n",
        "    verbose = 1,\n",
        "    validation_data = (x_val, y_val),\n",
        "    callbacks=[callbacks]\n",
        ")"
      ],
      "execution_count": 20,
      "outputs": [
        {
          "output_type": "stream",
          "text": [
            "WARNING:tensorflow:From <ipython-input-20-26e89d819804>:9: Model.fit_generator (from tensorflow.python.keras.engine.training) is deprecated and will be removed in a future version.\n",
            "Instructions for updating:\n",
            "Please use Model.fit, which supports generators.\n",
            "Epoch 1/15\n",
            "1500/1500 [==============================] - 18s 12ms/step - loss: 0.4224 - accuracy: 0.8667 - val_loss: 429.2678 - val_accuracy: 0.7595\n",
            "Epoch 2/15\n",
            "1500/1500 [==============================] - 17s 12ms/step - loss: 0.1832 - accuracy: 0.9439 - val_loss: 665.8669 - val_accuracy: 0.6147\n",
            "Epoch 3/15\n",
            "1500/1500 [==============================] - 17s 12ms/step - loss: 0.1441 - accuracy: 0.9558 - val_loss: 407.0125 - val_accuracy: 0.7509\n",
            "Epoch 4/15\n",
            "1500/1500 [==============================] - 17s 11ms/step - loss: 0.1245 - accuracy: 0.9624 - val_loss: 446.0224 - val_accuracy: 0.6845\n",
            "Epoch 5/15\n",
            "1500/1500 [==============================] - 17s 11ms/step - loss: 0.1126 - accuracy: 0.9656 - val_loss: 168.6465 - val_accuracy: 0.8246\n",
            "Epoch 6/15\n",
            "1500/1500 [==============================] - 17s 12ms/step - loss: 0.1087 - accuracy: 0.9673 - val_loss: 117.2469 - val_accuracy: 0.8378\n",
            "Epoch 7/15\n",
            "1500/1500 [==============================] - 18s 12ms/step - loss: 0.1051 - accuracy: 0.9678 - val_loss: 191.2163 - val_accuracy: 0.8604\n",
            "Epoch 8/15\n",
            "1500/1500 [==============================] - 17s 11ms/step - loss: 0.1003 - accuracy: 0.9699 - val_loss: 194.5115 - val_accuracy: 0.8198\n",
            "Epoch 9/15\n",
            "1500/1500 [==============================] - 17s 11ms/step - loss: 0.0940 - accuracy: 0.9714 - val_loss: 318.4749 - val_accuracy: 0.8298\n",
            "Epoch 10/15\n",
            "1500/1500 [==============================] - 17s 11ms/step - loss: 0.0889 - accuracy: 0.9725 - val_loss: 287.6507 - val_accuracy: 0.7822\n",
            "Epoch 11/15\n",
            "1500/1500 [==============================] - 17s 11ms/step - loss: 0.0857 - accuracy: 0.9740 - val_loss: 238.8056 - val_accuracy: 0.8325\n",
            "Epoch 12/15\n",
            "1500/1500 [==============================] - 17s 11ms/step - loss: 0.0821 - accuracy: 0.9752 - val_loss: 195.2797 - val_accuracy: 0.8455\n",
            "Epoch 13/15\n",
            "1500/1500 [==============================] - 17s 11ms/step - loss: 0.0796 - accuracy: 0.9762 - val_loss: 300.2772 - val_accuracy: 0.7905\n",
            "Epoch 14/15\n",
            "1500/1500 [==============================] - 17s 11ms/step - loss: 0.0802 - accuracy: 0.9754 - val_loss: 240.8795 - val_accuracy: 0.8313\n",
            "Epoch 15/15\n",
            "1500/1500 [==============================] - 17s 11ms/step - loss: 0.0766 - accuracy: 0.9767 - val_loss: 199.9793 - val_accuracy: 0.7885\n"
          ],
          "name": "stdout"
        }
      ]
    },
    {
      "cell_type": "code",
      "metadata": {
        "id": "7JIAZS9RQMBL",
        "outputId": "5ab4e4cf-7834-4e06-f421-a4b9ed8ee447",
        "colab": {
          "base_uri": "https://localhost:8080/",
          "height": 88
        }
      },
      "source": [
        "# np.argmaxで、10個のうち一番一番確率の大きいものを選ぶ\n",
        "pred_temp = DataFrame(np.argmax(model.predict_generator(test_generator, steps = test.shape[0]), axis=1))\n",
        "# pred_temp = DataFrame(np.argmax(model.predict(test), axis=1))"
      ],
      "execution_count": 21,
      "outputs": [
        {
          "output_type": "stream",
          "text": [
            "WARNING:tensorflow:From <ipython-input-21-17d6d6486fd8>:1: Model.predict_generator (from tensorflow.python.keras.engine.training) is deprecated and will be removed in a future version.\n",
            "Instructions for updating:\n",
            "Please use Model.predict, which supports generators.\n"
          ],
          "name": "stdout"
        }
      ]
    },
    {
      "cell_type": "code",
      "metadata": {
        "id": "gRDtu8ophF6_"
      },
      "source": [
        "df_sample_submition[1] = pred_temp"
      ],
      "execution_count": 22,
      "outputs": []
    },
    {
      "cell_type": "code",
      "metadata": {
        "id": "Dv077xIZdTKr",
        "outputId": "56bceacc-6a5d-4f00-8b1b-8084f8c0ffaf",
        "colab": {
          "base_uri": "https://localhost:8080/",
          "height": 204
        }
      },
      "source": [
        "df_sample_submition.head()"
      ],
      "execution_count": 23,
      "outputs": [
        {
          "output_type": "execute_result",
          "data": {
            "text/html": [
              "<div>\n",
              "<style scoped>\n",
              "    .dataframe tbody tr th:only-of-type {\n",
              "        vertical-align: middle;\n",
              "    }\n",
              "\n",
              "    .dataframe tbody tr th {\n",
              "        vertical-align: top;\n",
              "    }\n",
              "\n",
              "    .dataframe thead th {\n",
              "        text-align: right;\n",
              "    }\n",
              "</style>\n",
              "<table border=\"1\" class=\"dataframe\">\n",
              "  <thead>\n",
              "    <tr style=\"text-align: right;\">\n",
              "      <th></th>\n",
              "      <th>0</th>\n",
              "      <th>1</th>\n",
              "    </tr>\n",
              "  </thead>\n",
              "  <tbody>\n",
              "    <tr>\n",
              "      <th>0</th>\n",
              "      <td>test_0.jpg</td>\n",
              "      <td>7</td>\n",
              "    </tr>\n",
              "    <tr>\n",
              "      <th>1</th>\n",
              "      <td>test_1.jpg</td>\n",
              "      <td>2</td>\n",
              "    </tr>\n",
              "    <tr>\n",
              "      <th>2</th>\n",
              "      <td>test_2.jpg</td>\n",
              "      <td>1</td>\n",
              "    </tr>\n",
              "    <tr>\n",
              "      <th>3</th>\n",
              "      <td>test_3.jpg</td>\n",
              "      <td>0</td>\n",
              "    </tr>\n",
              "    <tr>\n",
              "      <th>4</th>\n",
              "      <td>test_4.jpg</td>\n",
              "      <td>4</td>\n",
              "    </tr>\n",
              "  </tbody>\n",
              "</table>\n",
              "</div>"
            ],
            "text/plain": [
              "            0  1\n",
              "0  test_0.jpg  7\n",
              "1  test_1.jpg  2\n",
              "2  test_2.jpg  1\n",
              "3  test_3.jpg  0\n",
              "4  test_4.jpg  4"
            ]
          },
          "metadata": {
            "tags": []
          },
          "execution_count": 23
        }
      ]
    },
    {
      "cell_type": "code",
      "metadata": {
        "id": "PMnGgq8ehYsx"
      },
      "source": [
        "df_sample_submition.to_csv('result.tsv', sep='\\t', index=False)"
      ],
      "execution_count": 24,
      "outputs": []
    },
    {
      "cell_type": "code",
      "metadata": {
        "id": "dvitLLAWhhLQ"
      },
      "source": [
        ""
      ],
      "execution_count": 24,
      "outputs": []
    }
  ]
}